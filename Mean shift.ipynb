{
 "cells": [
  {
   "cell_type": "code",
   "execution_count": 34,
   "id": "f497a19c",
   "metadata": {},
   "outputs": [],
   "source": [
    "import math\n",
    "import numpy as np\n",
    "import matplotlib as mpl\n",
    "import matplotlib.pyplot as plt\n",
    "from mpl_toolkits import mplot3d\n",
    "%matplotlib inline"
   ]
  },
  {
   "cell_type": "code",
   "execution_count": 35,
   "id": "882f8663",
   "metadata": {},
   "outputs": [],
   "source": [
    "def load_data(file, num):\n",
    "    #导入数据\n",
    "    #file表示文件,num表示需要取的列数\n",
    "    \n",
    "    f = open(file,mode = \"r\")  # 打开文件\n",
    "    data = []\n",
    "    for line in f.readlines():\n",
    "        line_temp = line.split()\n",
    "        data_temp = []\n",
    "        for i in range(num):\n",
    "            data_temp.append(line_temp[i])\n",
    "        data.append(data_temp)\n",
    "    f.close()  \n",
    "    return data\n",
    "        "
   ]
  },
  {
   "cell_type": "code",
   "execution_count": 36,
   "id": "5db1a343",
   "metadata": {},
   "outputs": [],
   "source": [
    "data_2D = load_data(\"point.txt\",2)\n",
    "data_3D = load_data(\"point.txt\",3)\n",
    "data = load_data(\"point1.txt\",3)\n",
    "\n",
    "x=np.empty((len(data),1))\n",
    "y=np.empty((len(data),1)) \n",
    "z=np.empty((len(data),1))\n",
    "#point1.txt里只有一千多个点，取少量点画图看起来清晰一些\n",
    "\n",
    "for i in range(len(data)):  #小部分数据\n",
    "    x[i][0] = data[i][0]\n",
    "    y[i][0] = data[i][1]\n",
    "    z[i][0] = data[i][2]"
   ]
  },
  {
   "cell_type": "code",
   "execution_count": 37,
   "id": "1e4b272e",
   "metadata": {},
   "outputs": [],
   "source": [
    "x_data=np.empty((len(data_3D),1))  #全部三列数据\n",
    "y_data=np.empty((len(data_3D),1))\n",
    "z_data=np.empty((len(data_3D),1))\n",
    "for i in range(len(data_3D)):\n",
    "    x_data[i][0] = data_3D[i][0]\n",
    "    y_data[i][0] = data_3D[i][1]\n",
    "    z_data[i][0] = data_3D[i][2]\n"
   ]
  },
  {
   "cell_type": "code",
   "execution_count": 38,
   "id": "f5729ef4",
   "metadata": {},
   "outputs": [],
   "source": [
    "def draw_point2D(x,y): #x,y为numpy数组\n",
    "    #画二维点云图\n",
    "    plt.figure(figsize=(150,150))\n",
    "    plt.plot(x, y, 'o', color='k')\n"
   ]
  },
  {
   "cell_type": "code",
   "execution_count": 39,
   "id": "2a1e2c35",
   "metadata": {},
   "outputs": [],
   "source": [
    "def draw_point3D(x,y,z):\n",
    "    #画三维点云图\n",
    "    ax = plt.axes(projection='3d')\n",
    "    ax.scatter3D(x,y,z,s=0.002,c=\"gray\")\n",
    "    ax.set_xlim(-9,9)\n",
    "    ax.set_ylim(-10,10)\n",
    "    ax.set_zlim(-10,15)"
   ]
  },
  {
   "cell_type": "code",
   "execution_count": 40,
   "id": "fa7d879f",
   "metadata": {},
   "outputs": [],
   "source": [
    "def cal_distance(a, b):  #求两点之间的距离\n",
    "    sum = 0\n",
    "    for i in range(len(a)):\n",
    "        sum += np.sqrt((float(a[i])-float(b[i]))**2)\n",
    "    return sum\n"
   ]
  },
  {
   "cell_type": "code",
   "execution_count": 41,
   "id": "fdf056b7",
   "metadata": {},
   "outputs": [],
   "source": [
    "def near_points(data, p_centroid, distance): #求给定半径内的点\n",
    "    eligible_point = []\n",
    "    for each in data:\n",
    "        bet_distance = cal_distance(each, p_centroid)\n",
    "        if bet_distance <= distance:\n",
    "            eligible_point.append(each)\n",
    "    return eligible_point\n"
   ]
  },
  {
   "cell_type": "code",
   "execution_count": 42,
   "id": "08e014b7",
   "metadata": {},
   "outputs": [],
   "source": [
    "def gaussian_kernel(distance, sigma): #计算高斯核函数的值\n",
    "    w = (1/(sigma*np.sqrt(2*np.pi))) * np.exp(-0.5*((distance / sigma))**2)\n",
    "    return w\n"
   ]
  },
  {
   "cell_type": "code",
   "execution_count": 43,
   "id": "c78a0ae8",
   "metadata": {},
   "outputs": [],
   "source": [
    "def plot_circle(center,r): #画出每次迭代的圈\n",
    "\n",
    "    x = np.linspace(float(center[0]) - r, float(center[0]) + r, 4000)\n",
    "\n",
    "    y1 = np.sqrt(r**2 - (x-float(center[0]))**2) + float(center[1])\n",
    "\n",
    "    y2 = -np.sqrt(r**2 - (x-float(center[0]))**2) + float(center[1])\n",
    "\n",
    "    plt.plot(x, y1, c='k')\n",
    "    plt.plot(x, y2, c='k')\n",
    "    plt.axis('equal')"
   ]
  },
  {
   "cell_type": "code",
   "execution_count": 44,
   "id": "1bccf549",
   "metadata": {},
   "outputs": [],
   "source": [
    "def mean_shift3D(data,mid_p):\n",
    "\n",
    "    num_iterations = 100  #迭代次数\n",
    "    \n",
    "    x = np.empty((num_iterations,1))\n",
    "    y = np.empty((num_iterations,1))\n",
    "    z = np.empty((num_iterations,1))\n",
    "    \n",
    "    top_distance = 1 # 给定半径\n",
    "    sigma = 250  # 设置高斯核函数的带宽\n",
    "    \n",
    "    ax = plt.axes(projection='3d')\n",
    "    ax.scatter3D(x_data,y_data,z_data,s=0.0002)\n",
    "    mid_p = np.array(mid_p,dtype = \"float64\")\n",
    "    ax.scatter3D(mid_p[0], mid_p[1], mid_p[2],s=100,cmap='Greens') \n",
    "    #画出三维点云\n",
    "\n",
    "    \n",
    "    for i in range(num_iterations):\n",
    "        \n",
    "        near = near_points(data_3D, mid_p, top_distance)\n",
    "        \n",
    "        numerator = 0 #下一次迭代球心坐标的分子\n",
    "        denominator = 0 #下一次迭代球心坐标的分母\n",
    "        \n",
    "        for each in near: #计算下一次迭代的圆心\n",
    "            distance = cal_distance(each, mid_p)\n",
    "            w = gaussian_kernel(distance, sigma) #权重\n",
    "           \n",
    "            each = np.array(each,dtype = \"float64\")#统一数据类型，不然与w相乘会报错\n",
    "            \n",
    "            numerator += w * each\n",
    "            denominator += w\n",
    "        \n",
    "        last_p = mid_p\n",
    "        new_p = numerator / denominator\n",
    "        mid_p=new_p\n",
    "        x[i][0]=mid_p[0]\n",
    "        y[i][0]=mid_p[1]\n",
    "        z[i][0]=mid_p[2]\n",
    "        \n",
    "        \n",
    "    ax.scatter3D(x, y, z,s=100,cmap='Greens') #画出所有点和第一次迭代的圆\n",
    "        \n",
    "\n",
    "    return mid_p"
   ]
  },
  {
   "cell_type": "code",
   "execution_count": 13,
   "id": "f2cd5e74",
   "metadata": {},
   "outputs": [],
   "source": [
    "def mean_shift2D(data,mid_p):\n",
    "    top_distance = 0.5 # 给定半径\n",
    "    sigma = 25  # 设置高斯核函数的带宽\n",
    "    \n",
    "    draw_point2D(x_data,y_data)\n",
    "    plot_circle(mid_p,top_distance) #画出所有点和第一次迭代的圆\n",
    "    \n",
    "    num_iterations = 100  #迭代次数\n",
    "    \n",
    "    for i in range(num_iterations):\n",
    "        \n",
    "        near = near_points(data_2D, mid_p, top_distance)\n",
    "        \n",
    "        numerator = 0 #下一次迭代圆心坐标的分子\n",
    "        denominator = 0 #下一次迭代圆心坐标的分母\n",
    "        \n",
    "        for each in near: #计算下一次迭代的圆心\n",
    "            distance = cal_distance(each, mid_p)\n",
    "            w = gaussian_kernel(distance, sigma) #权重\n",
    "           \n",
    "            each = np.array(each,dtype = \"float64\")#统一数据类型，不然与w相乘会报错\n",
    "            \n",
    "            numerator += w * each\n",
    "            denominator += w\n",
    "        \n",
    "        last_p = mid_p\n",
    "        new_p = numerator / denominator\n",
    "        mid_p=new_p\n",
    "        \n",
    "        plot_circle(mid_p,top_distance) #画出下一次迭代的圆\n",
    "        if i != 0:\n",
    "            plt.plot([last_p[0],new_p[0]],[last_p[1],new_p[1]],c=\"k\") #连接两次迭代的圆心,i=0时会多出一条线，因此i不取0\n",
    "\n",
    "    return mid_p\n",
    "\n",
    "    "
   ]
  },
  {
   "cell_type": "code",
   "execution_count": null,
   "id": "b5bc9f9f",
   "metadata": {},
   "outputs": [],
   "source": []
  }
 ],
 "metadata": {
  "kernelspec": {
   "display_name": "Python 3 (ipykernel)",
   "language": "python",
   "name": "python3"
  },
  "language_info": {
   "codemirror_mode": {
    "name": "ipython",
    "version": 3
   },
   "file_extension": ".py",
   "mimetype": "text/x-python",
   "name": "python",
   "nbconvert_exporter": "python",
   "pygments_lexer": "ipython3",
   "version": "3.7.13"
  }
 },
 "nbformat": 4,
 "nbformat_minor": 5
}
